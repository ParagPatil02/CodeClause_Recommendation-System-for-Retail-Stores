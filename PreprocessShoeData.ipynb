{
 "cells": [
  {
   "cell_type": "markdown",
   "metadata": {},
   "source": [
    "**Author - Parag Patil**"
   ]
  },
  {
   "cell_type": "markdown",
   "metadata": {},
   "source": [
    "**CodeClause- \"DATA SCIENCE INTERN \"**"
   ]
  },
  {
   "cell_type": "markdown",
   "metadata": {},
   "source": [
    "**Golden Project - 2**"
   ]
  },
  {
   "cell_type": "markdown",
   "metadata": {},
   "source": [
    "**Task 4 - Recommendation System for Retail Stores**"
   ]
  },
  {
   "cell_type": "markdown",
   "metadata": {},
   "source": [
    "### Create Feature Dataframe with Local Image Paths"
   ]
  },
  {
   "cell_type": "code",
   "execution_count": 1,
   "metadata": {},
   "outputs": [
    {
     "name": "stdout",
     "output_type": "stream",
     "text": [
      "Returning meta_data dataframe followed by feature_space_dataframe for  data/4096_vals.csv\n"
     ]
    }
   ],
   "source": [
    "# Create a dataframe with meta_info and drive, already done via munger\n",
    "from munger import Munger\n",
    "mngr = Munger()\n",
    "df_meta = mngr.munge()[0]"
   ]
  },
  {
   "cell_type": "code",
   "execution_count": 2,
   "metadata": {},
   "outputs": [
    {
     "data": {
      "text/html": [
       "<div>\n",
       "<style scoped>\n",
       "    .dataframe tbody tr th:only-of-type {\n",
       "        vertical-align: middle;\n",
       "    }\n",
       "\n",
       "    .dataframe tbody tr th {\n",
       "        vertical-align: top;\n",
       "    }\n",
       "\n",
       "    .dataframe thead th {\n",
       "        text-align: right;\n",
       "    }\n",
       "</style>\n",
       "<table border=\"1\" class=\"dataframe\">\n",
       "  <thead>\n",
       "    <tr style=\"text-align: right;\">\n",
       "      <th></th>\n",
       "      <th>CID</th>\n",
       "      <th>Category</th>\n",
       "      <th>SubCategory</th>\n",
       "      <th>HeelHeight</th>\n",
       "      <th>Insole</th>\n",
       "      <th>Closure</th>\n",
       "      <th>Gender</th>\n",
       "      <th>Material</th>\n",
       "      <th>ToeStyle</th>\n",
       "      <th>img_path</th>\n",
       "    </tr>\n",
       "    <tr>\n",
       "      <th>CID</th>\n",
       "      <th></th>\n",
       "      <th></th>\n",
       "      <th></th>\n",
       "      <th></th>\n",
       "      <th></th>\n",
       "      <th></th>\n",
       "      <th></th>\n",
       "      <th></th>\n",
       "      <th></th>\n",
       "      <th></th>\n",
       "    </tr>\n",
       "  </thead>\n",
       "  <tbody>\n",
       "    <tr>\n",
       "      <th>100627-72</th>\n",
       "      <td>100627-72</td>\n",
       "      <td>Shoes</td>\n",
       "      <td>Oxfords</td>\n",
       "      <td>NaN</td>\n",
       "      <td>Leather</td>\n",
       "      <td>Lace up</td>\n",
       "      <td>Men</td>\n",
       "      <td>Leather</td>\n",
       "      <td>Capped Toe;Round Toe</td>\n",
       "      <td>data/ut-zap50k-images/Shoes/Oxfords/Bostonian/...</td>\n",
       "    </tr>\n",
       "    <tr>\n",
       "      <th>100627-255</th>\n",
       "      <td>100627-255</td>\n",
       "      <td>Shoes</td>\n",
       "      <td>Oxfords</td>\n",
       "      <td>NaN</td>\n",
       "      <td>Leather</td>\n",
       "      <td>Lace up</td>\n",
       "      <td>Men</td>\n",
       "      <td>Leather</td>\n",
       "      <td>Capped Toe;Round Toe</td>\n",
       "      <td>data/ut-zap50k-images/Shoes/Oxfords/Bostonian/...</td>\n",
       "    </tr>\n",
       "    <tr>\n",
       "      <th>100657-72</th>\n",
       "      <td>100657-72</td>\n",
       "      <td>Shoes</td>\n",
       "      <td>Oxfords</td>\n",
       "      <td>NaN</td>\n",
       "      <td>Leather;Padded;Removable</td>\n",
       "      <td>Lace up</td>\n",
       "      <td>Men</td>\n",
       "      <td>Leather</td>\n",
       "      <td>Capped Toe;Round Toe</td>\n",
       "      <td>data/ut-zap50k-images/Shoes/Oxfords/Bostonian/...</td>\n",
       "    </tr>\n",
       "    <tr>\n",
       "      <th>100657-216</th>\n",
       "      <td>100657-216</td>\n",
       "      <td>Shoes</td>\n",
       "      <td>Oxfords</td>\n",
       "      <td>NaN</td>\n",
       "      <td>Leather;Padded;Removable</td>\n",
       "      <td>Lace up</td>\n",
       "      <td>Men</td>\n",
       "      <td>Leather</td>\n",
       "      <td>Capped Toe;Round Toe</td>\n",
       "      <td>data/ut-zap50k-images/Shoes/Oxfords/Bostonian/...</td>\n",
       "    </tr>\n",
       "    <tr>\n",
       "      <th>101026-3</th>\n",
       "      <td>101026-3</td>\n",
       "      <td>Boots</td>\n",
       "      <td>Mid-Calf</td>\n",
       "      <td>1in - 1 3/4in</td>\n",
       "      <td>Leather;Padded</td>\n",
       "      <td>Pull-on</td>\n",
       "      <td>Men</td>\n",
       "      <td>Leather;Rubber</td>\n",
       "      <td>Square Toe;Closed Toe</td>\n",
       "      <td>data/ut-zap50k-images/Boots/Mid-Calf/Durango/1...</td>\n",
       "    </tr>\n",
       "  </tbody>\n",
       "</table>\n",
       "</div>"
      ],
      "text/plain": [
       "                   CID Category SubCategory     HeelHeight  \\\n",
       "CID                                                          \n",
       "100627-72    100627-72    Shoes     Oxfords            NaN   \n",
       "100627-255  100627-255    Shoes     Oxfords            NaN   \n",
       "100657-72    100657-72    Shoes     Oxfords            NaN   \n",
       "100657-216  100657-216    Shoes     Oxfords            NaN   \n",
       "101026-3      101026-3    Boots    Mid-Calf  1in - 1 3/4in   \n",
       "\n",
       "                              Insole  Closure Gender        Material  \\\n",
       "CID                                                                    \n",
       "100627-72                    Leather  Lace up    Men         Leather   \n",
       "100627-255                   Leather  Lace up    Men         Leather   \n",
       "100657-72   Leather;Padded;Removable  Lace up    Men         Leather   \n",
       "100657-216  Leather;Padded;Removable  Lace up    Men         Leather   \n",
       "101026-3              Leather;Padded  Pull-on    Men  Leather;Rubber   \n",
       "\n",
       "                         ToeStyle  \\\n",
       "CID                                 \n",
       "100627-72    Capped Toe;Round Toe   \n",
       "100627-255   Capped Toe;Round Toe   \n",
       "100657-72    Capped Toe;Round Toe   \n",
       "100657-216   Capped Toe;Round Toe   \n",
       "101026-3    Square Toe;Closed Toe   \n",
       "\n",
       "                                                     img_path  \n",
       "CID                                                            \n",
       "100627-72   data/ut-zap50k-images/Shoes/Oxfords/Bostonian/...  \n",
       "100627-255  data/ut-zap50k-images/Shoes/Oxfords/Bostonian/...  \n",
       "100657-72   data/ut-zap50k-images/Shoes/Oxfords/Bostonian/...  \n",
       "100657-216  data/ut-zap50k-images/Shoes/Oxfords/Bostonian/...  \n",
       "101026-3    data/ut-zap50k-images/Boots/Mid-Calf/Durango/1...  "
      ]
     },
     "execution_count": 2,
     "metadata": {},
     "output_type": "execute_result"
    }
   ],
   "source": [
    "df_meta.head()"
   ]
  },
  {
   "cell_type": "markdown",
   "metadata": {},
   "source": [
    "## Preprocess Images and Save to a Local Preprocessed Folder"
   ]
  },
  {
   "cell_type": "markdown",
   "metadata": {},
   "source": [
    "### Define preprocessing Functions here"
   ]
  },
  {
   "cell_type": "code",
   "execution_count": 3,
   "metadata": {},
   "outputs": [],
   "source": [
    "#img preprocessing functions\n",
    "def convert_img(img, conversion_str):\n",
    "    return img.convert(conversion_str)\n",
    "\n",
    "def resize_img(img, resize):\n",
    "    return img.resize(resize)\n",
    "\n",
    "grayscale_img = lambda img: convert_img(img, 'L')\n",
    "resize_120 = lambda img: resize_img(img, (120, 120))"
   ]
  },
  {
   "cell_type": "code",
   "execution_count": 4,
   "metadata": {},
   "outputs": [],
   "source": [
    "#pick 120 as a nice even number between 106 and 132 (their mean is 119)\n",
    "\n",
    "preprocesses = [grayscale_img, resize_120]"
   ]
  },
  {
   "cell_type": "code",
   "execution_count": 5,
   "metadata": {},
   "outputs": [],
   "source": [
    "from PIL import Image\n",
    "\n",
    "def preprocess_img_row(row, folder_path='pp_data', preprocesses=[]):\n",
    "    with Image.open(row['img_path']) as img:\n",
    "        #Preprocess image\n",
    "        for preprocess in preprocesses:\n",
    "            img = preprocess(img)\n",
    "        \n",
    "        #Save preprocessed image\n",
    "        preprocessed_path = 'images/' + row['CID'] + '.jpg'\n",
    "        save_path = folder_path + '/' + preprocessed_path\n",
    "        img.save(save_path)\n",
    "    row['path'] = preprocessed_path\n",
    "    return row    "
   ]
  },
  {
   "cell_type": "markdown",
   "metadata": {},
   "source": [
    "### Define name of preprocessed data folder here"
   ]
  },
  {
   "cell_type": "code",
   "execution_count": 6,
   "metadata": {},
   "outputs": [],
   "source": [
    "preprocessed_path = 'pp_data'"
   ]
  },
  {
   "cell_type": "markdown",
   "metadata": {},
   "source": [
    "### Perform Preprocessing!"
   ]
  },
  {
   "cell_type": "code",
   "execution_count": 7,
   "metadata": {},
   "outputs": [],
   "source": [
    "df_preprocessed = df_meta.apply(lambda row: preprocess_img_row(row, folder_path=preprocessed_path, preprocesses=preprocesses), axis=1)"
   ]
  },
  {
   "cell_type": "code",
   "execution_count": 8,
   "metadata": {},
   "outputs": [
    {
     "data": {
      "text/html": [
       "<div>\n",
       "<style scoped>\n",
       "    .dataframe tbody tr th:only-of-type {\n",
       "        vertical-align: middle;\n",
       "    }\n",
       "\n",
       "    .dataframe tbody tr th {\n",
       "        vertical-align: top;\n",
       "    }\n",
       "\n",
       "    .dataframe thead th {\n",
       "        text-align: right;\n",
       "    }\n",
       "</style>\n",
       "<table border=\"1\" class=\"dataframe\">\n",
       "  <thead>\n",
       "    <tr style=\"text-align: right;\">\n",
       "      <th></th>\n",
       "      <th>CID</th>\n",
       "      <th>Category</th>\n",
       "      <th>SubCategory</th>\n",
       "      <th>HeelHeight</th>\n",
       "      <th>Insole</th>\n",
       "      <th>Closure</th>\n",
       "      <th>Gender</th>\n",
       "      <th>Material</th>\n",
       "      <th>ToeStyle</th>\n",
       "      <th>img_path</th>\n",
       "      <th>path</th>\n",
       "    </tr>\n",
       "    <tr>\n",
       "      <th>CID</th>\n",
       "      <th></th>\n",
       "      <th></th>\n",
       "      <th></th>\n",
       "      <th></th>\n",
       "      <th></th>\n",
       "      <th></th>\n",
       "      <th></th>\n",
       "      <th></th>\n",
       "      <th></th>\n",
       "      <th></th>\n",
       "      <th></th>\n",
       "    </tr>\n",
       "  </thead>\n",
       "  <tbody>\n",
       "    <tr>\n",
       "      <th>100627-72</th>\n",
       "      <td>100627-72</td>\n",
       "      <td>Shoes</td>\n",
       "      <td>Oxfords</td>\n",
       "      <td>NaN</td>\n",
       "      <td>Leather</td>\n",
       "      <td>Lace up</td>\n",
       "      <td>Men</td>\n",
       "      <td>Leather</td>\n",
       "      <td>Capped Toe;Round Toe</td>\n",
       "      <td>data/ut-zap50k-images/Shoes/Oxfords/Bostonian/...</td>\n",
       "      <td>images/100627-72.jpg</td>\n",
       "    </tr>\n",
       "    <tr>\n",
       "      <th>100627-255</th>\n",
       "      <td>100627-255</td>\n",
       "      <td>Shoes</td>\n",
       "      <td>Oxfords</td>\n",
       "      <td>NaN</td>\n",
       "      <td>Leather</td>\n",
       "      <td>Lace up</td>\n",
       "      <td>Men</td>\n",
       "      <td>Leather</td>\n",
       "      <td>Capped Toe;Round Toe</td>\n",
       "      <td>data/ut-zap50k-images/Shoes/Oxfords/Bostonian/...</td>\n",
       "      <td>images/100627-255.jpg</td>\n",
       "    </tr>\n",
       "    <tr>\n",
       "      <th>100657-72</th>\n",
       "      <td>100657-72</td>\n",
       "      <td>Shoes</td>\n",
       "      <td>Oxfords</td>\n",
       "      <td>NaN</td>\n",
       "      <td>Leather;Padded;Removable</td>\n",
       "      <td>Lace up</td>\n",
       "      <td>Men</td>\n",
       "      <td>Leather</td>\n",
       "      <td>Capped Toe;Round Toe</td>\n",
       "      <td>data/ut-zap50k-images/Shoes/Oxfords/Bostonian/...</td>\n",
       "      <td>images/100657-72.jpg</td>\n",
       "    </tr>\n",
       "    <tr>\n",
       "      <th>100657-216</th>\n",
       "      <td>100657-216</td>\n",
       "      <td>Shoes</td>\n",
       "      <td>Oxfords</td>\n",
       "      <td>NaN</td>\n",
       "      <td>Leather;Padded;Removable</td>\n",
       "      <td>Lace up</td>\n",
       "      <td>Men</td>\n",
       "      <td>Leather</td>\n",
       "      <td>Capped Toe;Round Toe</td>\n",
       "      <td>data/ut-zap50k-images/Shoes/Oxfords/Bostonian/...</td>\n",
       "      <td>images/100657-216.jpg</td>\n",
       "    </tr>\n",
       "    <tr>\n",
       "      <th>101026-3</th>\n",
       "      <td>101026-3</td>\n",
       "      <td>Boots</td>\n",
       "      <td>Mid-Calf</td>\n",
       "      <td>1in - 1 3/4in</td>\n",
       "      <td>Leather;Padded</td>\n",
       "      <td>Pull-on</td>\n",
       "      <td>Men</td>\n",
       "      <td>Leather;Rubber</td>\n",
       "      <td>Square Toe;Closed Toe</td>\n",
       "      <td>data/ut-zap50k-images/Boots/Mid-Calf/Durango/1...</td>\n",
       "      <td>images/101026-3.jpg</td>\n",
       "    </tr>\n",
       "  </tbody>\n",
       "</table>\n",
       "</div>"
      ],
      "text/plain": [
       "                   CID Category SubCategory     HeelHeight  \\\n",
       "CID                                                          \n",
       "100627-72    100627-72    Shoes     Oxfords            NaN   \n",
       "100627-255  100627-255    Shoes     Oxfords            NaN   \n",
       "100657-72    100657-72    Shoes     Oxfords            NaN   \n",
       "100657-216  100657-216    Shoes     Oxfords            NaN   \n",
       "101026-3      101026-3    Boots    Mid-Calf  1in - 1 3/4in   \n",
       "\n",
       "                              Insole  Closure Gender        Material  \\\n",
       "CID                                                                    \n",
       "100627-72                    Leather  Lace up    Men         Leather   \n",
       "100627-255                   Leather  Lace up    Men         Leather   \n",
       "100657-72   Leather;Padded;Removable  Lace up    Men         Leather   \n",
       "100657-216  Leather;Padded;Removable  Lace up    Men         Leather   \n",
       "101026-3              Leather;Padded  Pull-on    Men  Leather;Rubber   \n",
       "\n",
       "                         ToeStyle  \\\n",
       "CID                                 \n",
       "100627-72    Capped Toe;Round Toe   \n",
       "100627-255   Capped Toe;Round Toe   \n",
       "100657-72    Capped Toe;Round Toe   \n",
       "100657-216   Capped Toe;Round Toe   \n",
       "101026-3    Square Toe;Closed Toe   \n",
       "\n",
       "                                                     img_path  \\\n",
       "CID                                                             \n",
       "100627-72   data/ut-zap50k-images/Shoes/Oxfords/Bostonian/...   \n",
       "100627-255  data/ut-zap50k-images/Shoes/Oxfords/Bostonian/...   \n",
       "100657-72   data/ut-zap50k-images/Shoes/Oxfords/Bostonian/...   \n",
       "100657-216  data/ut-zap50k-images/Shoes/Oxfords/Bostonian/...   \n",
       "101026-3    data/ut-zap50k-images/Boots/Mid-Calf/Durango/1...   \n",
       "\n",
       "                             path  \n",
       "CID                                \n",
       "100627-72    images/100627-72.jpg  \n",
       "100627-255  images/100627-255.jpg  \n",
       "100657-72    images/100657-72.jpg  \n",
       "100657-216  images/100657-216.jpg  \n",
       "101026-3      images/101026-3.jpg  "
      ]
     },
     "execution_count": 8,
     "metadata": {},
     "output_type": "execute_result"
    }
   ],
   "source": [
    "df_preprocessed.head()"
   ]
  },
  {
   "cell_type": "markdown",
   "metadata": {},
   "source": [
    "### Save CSV in Preprocessed folder!"
   ]
  },
  {
   "cell_type": "code",
   "execution_count": 9,
   "metadata": {},
   "outputs": [],
   "source": [
    "#create and save drive_csv\n",
    "import pandas\n",
    "df_preprocessed.drop(['CID', 'img_path'], axis=1, inplace=True)\n",
    "\n",
    "csv_path = preprocessed_path + '/df.csv'\n",
    "df_preprocessed.to_csv(csv_path)"
   ]
  },
  {
   "cell_type": "markdown",
   "metadata": {},
   "source": [
    "## Test that we can read in csv correctly!"
   ]
  },
  {
   "cell_type": "code",
   "execution_count": 10,
   "metadata": {},
   "outputs": [],
   "source": [
    "drive_df_test = pandas.read_csv(csv_path, index_col=0)"
   ]
  },
  {
   "cell_type": "code",
   "execution_count": 11,
   "metadata": {},
   "outputs": [
    {
     "data": {
      "text/html": [
       "<div>\n",
       "<style scoped>\n",
       "    .dataframe tbody tr th:only-of-type {\n",
       "        vertical-align: middle;\n",
       "    }\n",
       "\n",
       "    .dataframe tbody tr th {\n",
       "        vertical-align: top;\n",
       "    }\n",
       "\n",
       "    .dataframe thead th {\n",
       "        text-align: right;\n",
       "    }\n",
       "</style>\n",
       "<table border=\"1\" class=\"dataframe\">\n",
       "  <thead>\n",
       "    <tr style=\"text-align: right;\">\n",
       "      <th></th>\n",
       "      <th>Category</th>\n",
       "      <th>SubCategory</th>\n",
       "      <th>HeelHeight</th>\n",
       "      <th>Insole</th>\n",
       "      <th>Closure</th>\n",
       "      <th>Gender</th>\n",
       "      <th>Material</th>\n",
       "      <th>ToeStyle</th>\n",
       "      <th>path</th>\n",
       "    </tr>\n",
       "    <tr>\n",
       "      <th>CID</th>\n",
       "      <th></th>\n",
       "      <th></th>\n",
       "      <th></th>\n",
       "      <th></th>\n",
       "      <th></th>\n",
       "      <th></th>\n",
       "      <th></th>\n",
       "      <th></th>\n",
       "      <th></th>\n",
       "    </tr>\n",
       "  </thead>\n",
       "  <tbody>\n",
       "    <tr>\n",
       "      <th>100627-72</th>\n",
       "      <td>Shoes</td>\n",
       "      <td>Oxfords</td>\n",
       "      <td>NaN</td>\n",
       "      <td>Leather</td>\n",
       "      <td>Lace up</td>\n",
       "      <td>Men</td>\n",
       "      <td>Leather</td>\n",
       "      <td>Capped Toe;Round Toe</td>\n",
       "      <td>images/100627-72.jpg</td>\n",
       "    </tr>\n",
       "    <tr>\n",
       "      <th>100627-255</th>\n",
       "      <td>Shoes</td>\n",
       "      <td>Oxfords</td>\n",
       "      <td>NaN</td>\n",
       "      <td>Leather</td>\n",
       "      <td>Lace up</td>\n",
       "      <td>Men</td>\n",
       "      <td>Leather</td>\n",
       "      <td>Capped Toe;Round Toe</td>\n",
       "      <td>images/100627-255.jpg</td>\n",
       "    </tr>\n",
       "    <tr>\n",
       "      <th>100657-72</th>\n",
       "      <td>Shoes</td>\n",
       "      <td>Oxfords</td>\n",
       "      <td>NaN</td>\n",
       "      <td>Leather;Padded;Removable</td>\n",
       "      <td>Lace up</td>\n",
       "      <td>Men</td>\n",
       "      <td>Leather</td>\n",
       "      <td>Capped Toe;Round Toe</td>\n",
       "      <td>images/100657-72.jpg</td>\n",
       "    </tr>\n",
       "    <tr>\n",
       "      <th>100657-216</th>\n",
       "      <td>Shoes</td>\n",
       "      <td>Oxfords</td>\n",
       "      <td>NaN</td>\n",
       "      <td>Leather;Padded;Removable</td>\n",
       "      <td>Lace up</td>\n",
       "      <td>Men</td>\n",
       "      <td>Leather</td>\n",
       "      <td>Capped Toe;Round Toe</td>\n",
       "      <td>images/100657-216.jpg</td>\n",
       "    </tr>\n",
       "    <tr>\n",
       "      <th>101026-3</th>\n",
       "      <td>Boots</td>\n",
       "      <td>Mid-Calf</td>\n",
       "      <td>1in - 1 3/4in</td>\n",
       "      <td>Leather;Padded</td>\n",
       "      <td>Pull-on</td>\n",
       "      <td>Men</td>\n",
       "      <td>Leather;Rubber</td>\n",
       "      <td>Square Toe;Closed Toe</td>\n",
       "      <td>images/101026-3.jpg</td>\n",
       "    </tr>\n",
       "  </tbody>\n",
       "</table>\n",
       "</div>"
      ],
      "text/plain": [
       "           Category SubCategory     HeelHeight                    Insole  \\\n",
       "CID                                                                        \n",
       "100627-72     Shoes     Oxfords            NaN                   Leather   \n",
       "100627-255    Shoes     Oxfords            NaN                   Leather   \n",
       "100657-72     Shoes     Oxfords            NaN  Leather;Padded;Removable   \n",
       "100657-216    Shoes     Oxfords            NaN  Leather;Padded;Removable   \n",
       "101026-3      Boots    Mid-Calf  1in - 1 3/4in            Leather;Padded   \n",
       "\n",
       "            Closure Gender        Material               ToeStyle  \\\n",
       "CID                                                                 \n",
       "100627-72   Lace up    Men         Leather   Capped Toe;Round Toe   \n",
       "100627-255  Lace up    Men         Leather   Capped Toe;Round Toe   \n",
       "100657-72   Lace up    Men         Leather   Capped Toe;Round Toe   \n",
       "100657-216  Lace up    Men         Leather   Capped Toe;Round Toe   \n",
       "101026-3    Pull-on    Men  Leather;Rubber  Square Toe;Closed Toe   \n",
       "\n",
       "                             path  \n",
       "CID                                \n",
       "100627-72    images/100627-72.jpg  \n",
       "100627-255  images/100627-255.jpg  \n",
       "100657-72    images/100657-72.jpg  \n",
       "100657-216  images/100657-216.jpg  \n",
       "101026-3      images/101026-3.jpg  "
      ]
     },
     "execution_count": 11,
     "metadata": {},
     "output_type": "execute_result"
    }
   ],
   "source": [
    "drive_df_test.head()"
   ]
  },
  {
   "cell_type": "markdown",
   "metadata": {},
   "source": [
    "## Upload Image Files from Local Preprocessed Folder to Drive"
   ]
  },
  {
   "cell_type": "markdown",
   "metadata": {},
   "source": [
    "#CONNECT TO DRIVE\n",
    "from pydrive.auth import GoogleAuth\n",
    "from pydrive.drive import GoogleDrive\n",
    "import os\n",
    "\n",
    "gauth = GoogleAuth()\n",
    "gauth.LocalWebserverAuth()\n",
    "drive = GoogleDrive(gauth)"
   ]
  },
  {
   "cell_type": "markdown",
   "metadata": {},
   "source": [
    "def upload_img_row(row, drive):\n",
    "    f = drive.CreateFile()\n",
    "    f.SetContentFile(row['preprocessed_path'])\n",
    "    f.Upload()\n",
    "    row['drive_id'] = f['id']\n",
    "    return row"
   ]
  },
  {
   "cell_type": "markdown",
   "metadata": {},
   "source": [
    "from IPython.display import clear_output\n",
    "\n",
    "def upload_to_drive(df, drive):\n",
    "    '''Takes in the preprocessed_dataframe and uploads local\n",
    "    stored preprocessed images to drive, returning a dataframe\n",
    "    with drive file_ids corresponding to correct image attached \n",
    "    to each data item'''\n",
    "    count = 0\n",
    "    length = len(df)\n",
    "    drive_df = pandas.DataFrame()\n",
    "    for index, row in df.iterrows():\n",
    "        count += 1\n",
    "        \n",
    "        drive_df.append(upload_img_row(row, drive))\n",
    "        clear_output()\n",
    "        print('{}%'.format(round(100 * (count/length), 2)))\n",
    "    return drive_df\n",
    "        "
   ]
  },
  {
   "cell_type": "markdown",
   "metadata": {},
   "source": [
    "file_list = drive.ListFile({'q': \"'root' in parents and trashed=false\"}).GetList()"
   ]
  },
  {
   "cell_type": "markdown",
   "metadata": {},
   "source": [
    "for file in file_list:\n",
    "    if file['title'].startswith('pp_data'):\n",
    "        file.Delete()"
   ]
  },
  {
   "cell_type": "code",
   "execution_count": null,
   "metadata": {},
   "outputs": [],
   "source": []
  },
  {
   "cell_type": "code",
   "execution_count": null,
   "metadata": {},
   "outputs": [],
   "source": []
  },
  {
   "cell_type": "code",
   "execution_count": null,
   "metadata": {},
   "outputs": [],
   "source": []
  }
 ],
 "metadata": {
  "kernelspec": {
   "display_name": "Python 3",
   "language": "python",
   "name": "python3"
  },
  "language_info": {
   "codemirror_mode": {
    "name": "ipython",
    "version": 3
   },
   "file_extension": ".py",
   "mimetype": "text/x-python",
   "name": "python",
   "nbconvert_exporter": "python",
   "pygments_lexer": "ipython3",
   "version": "3.6.5"
  },
  "vscode": {
   "interpreter": {
    "hash": "88e86f65c34cd0b800fef137318f3d3c8e1d0106e4d40c02a83e043d19cd34b7"
   }
  }
 },
 "nbformat": 4,
 "nbformat_minor": 2
}
